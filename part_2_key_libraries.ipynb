{
 "cells": [
  {
   "cell_type": "code",
   "execution_count": 1,
   "metadata": {},
   "outputs": [
    {
     "name": "stdout",
     "output_type": "stream",
     "text": [
      "Using matplotlib backend: TkAgg\n"
     ]
    }
   ],
   "source": [
    "%matplotlib\n",
    "\n",
    "import numpy as np\n",
    "import matplotlib.pyplot as plt"
   ]
  },
  {
   "cell_type": "markdown",
   "metadata": {},
   "source": [
    "# Key Scientific Libraries\n",
    "\n",
    "Python has a vast number of useful scientific libraries. So, the key message:\n",
    "\n",
    "**Before writing your own scientific functions, check someone hasn't already done it in the following pacakges!**\n",
    "\n",
    "These packages have been worked on by large numbers of professional programmers who will have optimised and tested them extensively.\n",
    "\n",
    "For much more detail and more exercises you can check out http://www.scipy-lectures.org/intro/"
   ]
  },
  {
   "cell_type": "markdown",
   "metadata": {},
   "source": [
    "## Numpy\n",
    "\n",
    "Numpy is the result of over 20 years of development and forms the base of scientific computing in Python. It's the engine that handles arrays, matrices, polymnomials etc.\n",
    "\n",
    "Under the hood it employs various C/ Fortran bindings similar to Matlab and R."
   ]
  },
  {
   "cell_type": "markdown",
   "metadata": {},
   "source": [
    "### Arrays"
   ]
  },
  {
   "cell_type": "markdown",
   "metadata": {},
   "source": [
    "Numpy arrays are like normal Python lists but with lots of useful functions added on"
   ]
  },
  {
   "cell_type": "code",
   "execution_count": 2,
   "metadata": {},
   "outputs": [],
   "source": [
    "a = np.array([1, 2, 3, 4, 5, 6, 7])"
   ]
  },
  {
   "cell_type": "code",
   "execution_count": 3,
   "metadata": {},
   "outputs": [
    {
     "data": {
      "text/plain": [
       "7"
      ]
     },
     "execution_count": 3,
     "metadata": {},
     "output_type": "execute_result"
    }
   ],
   "source": [
    "# Maximum\n",
    "a.max()"
   ]
  },
  {
   "cell_type": "code",
   "execution_count": 4,
   "metadata": {},
   "outputs": [
    {
     "data": {
      "text/plain": [
       "28"
      ]
     },
     "execution_count": 4,
     "metadata": {},
     "output_type": "execute_result"
    }
   ],
   "source": [
    "# Sum\n",
    "a.sum()"
   ]
  },
  {
   "cell_type": "code",
   "execution_count": 5,
   "metadata": {},
   "outputs": [
    {
     "data": {
      "text/plain": [
       "5040"
      ]
     },
     "execution_count": 5,
     "metadata": {},
     "output_type": "execute_result"
    }
   ],
   "source": [
    "# Product\n",
    "a.prod()"
   ]
  },
  {
   "cell_type": "code",
   "execution_count": 6,
   "metadata": {},
   "outputs": [
    {
     "data": {
      "text/plain": [
       "4.0"
      ]
     },
     "execution_count": 6,
     "metadata": {},
     "output_type": "execute_result"
    }
   ],
   "source": [
    "# Mean\n",
    "a.mean()"
   ]
  },
  {
   "cell_type": "code",
   "execution_count": 7,
   "metadata": {},
   "outputs": [
    {
     "data": {
      "text/plain": [
       "2.0"
      ]
     },
     "execution_count": 7,
     "metadata": {},
     "output_type": "execute_result"
    }
   ],
   "source": [
    "# Standard deviation\n",
    "a.std()"
   ]
  },
  {
   "cell_type": "markdown",
   "metadata": {},
   "source": [
    "### Matrices"
   ]
  },
  {
   "cell_type": "code",
   "execution_count": 8,
   "metadata": {},
   "outputs": [
    {
     "data": {
      "text/plain": [
       "(3, 3)"
      ]
     },
     "execution_count": 8,
     "metadata": {},
     "output_type": "execute_result"
    }
   ],
   "source": [
    "m = np.array([\n",
    "    [1, 2, 3], \n",
    "    [4, 5, 6], \n",
    "    [7, 8, 9]\n",
    "])\n",
    "\n",
    "m.shape"
   ]
  },
  {
   "cell_type": "markdown",
   "metadata": {},
   "source": [
    "Indexing looks fairly similar to normal list indexing. To access a specific element we specify the row and column index:"
   ]
  },
  {
   "cell_type": "code",
   "execution_count": 9,
   "metadata": {},
   "outputs": [
    {
     "data": {
      "text/plain": [
       "6"
      ]
     },
     "execution_count": 9,
     "metadata": {},
     "output_type": "execute_result"
    }
   ],
   "source": [
    "# Element in 2nd row (index 1) and 3rd column (index 2)\n",
    "m[1, 2]"
   ]
  },
  {
   "cell_type": "markdown",
   "metadata": {},
   "source": [
    "To index a whole row or column we use a colon `:`"
   ]
  },
  {
   "cell_type": "code",
   "execution_count": 10,
   "metadata": {},
   "outputs": [
    {
     "data": {
      "text/plain": [
       "array([4, 5, 6])"
      ]
     },
     "execution_count": 10,
     "metadata": {},
     "output_type": "execute_result"
    }
   ],
   "source": [
    "# Second row (index 1)\n",
    "m[1, :]"
   ]
  },
  {
   "cell_type": "code",
   "execution_count": 11,
   "metadata": {},
   "outputs": [
    {
     "data": {
      "text/plain": [
       "array([3, 6, 9])"
      ]
     },
     "execution_count": 11,
     "metadata": {},
     "output_type": "execute_result"
    }
   ],
   "source": [
    "# Third column (index 2)\n",
    "m[:, 2]"
   ]
  },
  {
   "cell_type": "markdown",
   "metadata": {},
   "source": [
    "Matrix multiplication is fairly straightfoward method calls too:"
   ]
  },
  {
   "cell_type": "code",
   "execution_count": 12,
   "metadata": {},
   "outputs": [
    {
     "data": {
      "text/plain": [
       "array([ 68, 167, 266])"
      ]
     },
     "execution_count": 12,
     "metadata": {},
     "output_type": "execute_result"
    }
   ],
   "source": [
    "# Dot product\n",
    "m.dot([10, 11, 12])"
   ]
  },
  {
   "cell_type": "markdown",
   "metadata": {},
   "source": [
    "## Matplotlib\n",
    "\n",
    "`matplotlib` is the most popular Python library for producing graphs. The `mat` part of the title indicates the similarities with the Matlab plotting interface.\n"
   ]
  },
  {
   "cell_type": "markdown",
   "metadata": {},
   "source": [
    "First we can produce some data to plot. We can start with a simple sine and cosine:"
   ]
  },
  {
   "cell_type": "code",
   "execution_count": 13,
   "metadata": {},
   "outputs": [],
   "source": [
    "x_data = np.linspace(-np.pi, np.pi, 256)\n",
    "cos_data = np.cos(x_data)\n",
    "sin_data = np.sin(x_data)"
   ]
  },
  {
   "cell_type": "markdown",
   "metadata": {},
   "source": [
    "Now using `matplotlib` we can plot both on the same axes. Note, to start an interactive plotting session you can add `%matplotlib` in your Jupyter notebook."
   ]
  },
  {
   "cell_type": "code",
   "execution_count": 14,
   "metadata": {},
   "outputs": [],
   "source": [
    "plt.plot(x_data, cos_data)\n",
    "plt.plot(x_data, sin_data)\n",
    "\n",
    "plt.show()"
   ]
  },
  {
   "cell_type": "markdown",
   "metadata": {},
   "source": [
    "### Spines\n",
    "\n",
    "To move the spines (lines that mark the edges/ axes) we can do the following.\n",
    "\n",
    "Note the use of `plt.gca()` to get the current axes. This is useful when you're handling lots of subplots."
   ]
  },
  {
   "cell_type": "markdown",
   "metadata": {},
   "source": [
    "To move the x-axis (i.e. the bottom spine), we can do:"
   ]
  },
  {
   "cell_type": "code",
   "execution_count": 15,
   "metadata": {},
   "outputs": [],
   "source": [
    "ax = plt.gca()\n",
    "ax.spines['bottom'].set_position(('data', 0))"
   ]
  },
  {
   "cell_type": "markdown",
   "metadata": {},
   "source": [
    "Now to remove the lines at the top and side:"
   ]
  },
  {
   "cell_type": "code",
   "execution_count": 16,
   "metadata": {},
   "outputs": [],
   "source": [
    "ax.spines['top'].set_color('none')\n",
    "ax.spines['right'].set_color('none')"
   ]
  },
  {
   "cell_type": "markdown",
   "metadata": {},
   "source": [
    "### Grids\n",
    "\n",
    "To add a grid to our plot:"
   ]
  },
  {
   "cell_type": "code",
   "execution_count": 17,
   "metadata": {},
   "outputs": [],
   "source": [
    "ax.grid(color='tab:gray', linestyle='--', linewidth=0.5, alpha=0.5)"
   ]
  },
  {
   "cell_type": "markdown",
   "metadata": {},
   "source": [
    "### Subplots\n",
    "\n",
    "Matplotlib uses a similar grid system to Matlab. A good set of examples can be seen [here](http://www.scipy-lectures.org/intro/matplotlib/index.html#subplots).\n",
    "\n",
    "To set up a 2x2 grid and start working on the cell in the top left we can run the following:"
   ]
  },
  {
   "cell_type": "code",
   "execution_count": 18,
   "metadata": {},
   "outputs": [
    {
     "data": {
      "text/plain": [
       "<matplotlib.axes._subplots.AxesSubplot at 0x7f6eccd53128>"
      ]
     },
     "execution_count": 18,
     "metadata": {},
     "output_type": "execute_result"
    }
   ],
   "source": [
    "plt.figure()\n",
    "\n",
    "plt.subplot(2, 2, 1)"
   ]
  },
  {
   "cell_type": "markdown",
   "metadata": {},
   "source": [
    "Now to plot in this subplot we can call the normal plotting commands, e.g."
   ]
  },
  {
   "cell_type": "code",
   "execution_count": 19,
   "metadata": {},
   "outputs": [
    {
     "data": {
      "text/plain": [
       "[<matplotlib.lines.Line2D at 0x7f6eccd832b0>]"
      ]
     },
     "execution_count": 19,
     "metadata": {},
     "output_type": "execute_result"
    }
   ],
   "source": [
    "plt.plot(x_data, cos_data)\n",
    "plt.plot(x_data, sin_data)"
   ]
  },
  {
   "cell_type": "markdown",
   "metadata": {},
   "source": [
    "To get the second plot we can run:"
   ]
  },
  {
   "cell_type": "code",
   "execution_count": 20,
   "metadata": {},
   "outputs": [
    {
     "data": {
      "text/plain": [
       "<matplotlib.axes._subplots.AxesSubplot at 0x7f6eccd83b00>"
      ]
     },
     "execution_count": 20,
     "metadata": {},
     "output_type": "execute_result"
    }
   ],
   "source": [
    "plt.subplot(2, 2, 2)"
   ]
  },
  {
   "cell_type": "markdown",
   "metadata": {},
   "source": [
    "And plot in there as normal:"
   ]
  },
  {
   "cell_type": "code",
   "execution_count": 21,
   "metadata": {},
   "outputs": [
    {
     "data": {
      "text/plain": [
       "[<matplotlib.lines.Line2D at 0x7f6eccd38438>]"
      ]
     },
     "execution_count": 21,
     "metadata": {},
     "output_type": "execute_result"
    }
   ],
   "source": [
    "plt.plot(x_data, np.power(x_data, 2))\n",
    "plt.plot(x_data, np.power(x_data, 3))"
   ]
  },
  {
   "cell_type": "markdown",
   "metadata": {},
   "source": [
    "## Exercise - 2D Heatmap\n",
    "\n",
    "Plot a 2D heatmap of some random numbers. To do this you can use the `numpy.random.rand` method which works like this:\n",
    "\n",
    "```\n",
    "# Generate a random 30x30 matrix\n",
    "random_matrix = np.random.rand(30, 30)\n",
    "```\n",
    "\n",
    "You can plot a 2D representation of a matrix like this:\n",
    "\n",
    "```\n",
    "plt.pcolor(random_matrix)\n",
    "```\n",
    "\n",
    "Finally, you can call `plt.show()` to display your plot.\n",
    "\n",
    "You can change the colour of your plot by mofidying the `cmap` property when calling `pcolor`, for example:\n",
    "\n",
    "```\n",
    "plt.pcolor(random_matrix, cmap=plt.cm.hot)\n",
    "```\n",
    "\n",
    "Or \n",
    "\n",
    "```\n",
    "plt.pcolor(random_matrix, cmap=plt.cm.Greens)\n",
    "```\n",
    "\n",
    "Finally you can add a colour bar by calling `plt.colorbar()`."
   ]
  },
  {
   "cell_type": "code",
   "execution_count": 22,
   "metadata": {},
   "outputs": [
    {
     "data": {
      "text/plain": [
       "<matplotlib.figure.Figure at 0x7f6eccd3eba8>"
      ]
     },
     "execution_count": 22,
     "metadata": {},
     "output_type": "execute_result"
    }
   ],
   "source": [
    "# Create a new figure\n",
    "plt.figure()\n",
    "\n",
    "# Put your code here:"
   ]
  },
  {
   "cell_type": "markdown",
   "metadata": {},
   "source": [
    "## Exercise  - Subplots\n",
    "\n",
    "Create a 2x2 grid of subplots, plotting `y = sin(x)`, `y=cos(x)`, `y=arcsin(x)` and `y=arccos(x)`.\n",
    "\n",
    "To generate a linear array of x values you can use the `np.linspace` function, e.g.:\n",
    "\n",
    "```\n",
    "# Create 50 values between zero and ten\n",
    "x_data = np.linspace(0, 10, 50)\n",
    "```\n",
    "\n",
    "You can then use the `np.sin`, `np.cos`, `np.arcsin` and `np.arccos` functions on the array to generate the y values, e.g.\n",
    "\n",
    "```\n",
    "y_data = np.sin(x_data)\n",
    "```\n",
    "\n",
    "Try adding titles to each plot by calling `plt.title('your title here')` at the right points.\n",
    "\n",
    "Does the layout look funny? Try adding a call to `plt.tight_layout()` to fix it."
   ]
  },
  {
   "cell_type": "code",
   "execution_count": 23,
   "metadata": {},
   "outputs": [
    {
     "data": {
      "text/plain": [
       "<matplotlib.figure.Figure at 0x7f6eccd3e400>"
      ]
     },
     "execution_count": 23,
     "metadata": {},
     "output_type": "execute_result"
    }
   ],
   "source": [
    "# Create a new figure\n",
    "plt.figure()\n",
    "\n",
    "# Put your code here"
   ]
  },
  {
   "cell_type": "markdown",
   "metadata": {},
   "source": [
    "## Scipy"
   ]
  },
  {
   "cell_type": "markdown",
   "metadata": {},
   "source": [
    "`scipy` is a collection of domain-specific scientific computing tools. \n",
    "\n",
    "It supports things like interpolation, integration, optimization, image processing, statistics, special functions and so on. It is tightly integrated with `numpy`.\n",
    "\n",
    "It's worth browsing over some of the packages on offer to get a feel for what's there:\n",
    "\n",
    "- [Stats](https://docs.scipy.org/doc/scipy/reference/stats.html)\n",
    "- [Interpolation](https://docs.scipy.org/doc/scipy/reference/interpolate.html)\n",
    "- [Linear algebra](https://docs.scipy.org/doc/scipy/reference/linalg.html)\n",
    "- [Fourier transforms](https://docs.scipy.org/doc/scipy/reference/fftpack.html)\n",
    "- [Integration and ODEs](https://docs.scipy.org/doc/scipy/reference/integrate.html)\n",
    "- [Image processing](https://docs.scipy.org/doc/scipy/reference/ndimage.html)\n",
    "- [Optimisation and root finding](https://docs.scipy.org/doc/scipy/reference/optimize.html)\n",
    "- [Signal processing](https://docs.scipy.org/doc/scipy/reference/signal.html)\n",
    "- [Sparse matrices](https://docs.scipy.org/doc/scipy/reference/sparse.html)"
   ]
  }
 ],
 "metadata": {
  "kernelspec": {
   "display_name": "Python 3",
   "language": "python",
   "name": "python3"
  },
  "language_info": {
   "codemirror_mode": {
    "name": "ipython",
    "version": 3
   },
   "file_extension": ".py",
   "mimetype": "text/x-python",
   "name": "python",
   "nbconvert_exporter": "python",
   "pygments_lexer": "ipython3",
   "version": "3.5.2"
  }
 },
 "nbformat": 4,
 "nbformat_minor": 2
}
