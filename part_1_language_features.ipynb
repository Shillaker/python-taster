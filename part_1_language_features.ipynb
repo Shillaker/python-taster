{
 "cells": [
  {
   "cell_type": "markdown",
   "metadata": {},
   "source": [
    "# Language Features"
   ]
  },
  {
   "cell_type": "markdown",
   "metadata": {},
   "source": [
    "## String Formatting\n",
    "\n",
    "To combine variables with bits of text we need to use string formatting. There are a couple of ways to do this, but the following syntax is the most flexible:"
   ]
  },
  {
   "cell_type": "code",
   "execution_count": 16,
   "metadata": {},
   "outputs": [
    {
     "name": "stdout",
     "output_type": "stream",
     "text": [
      "A = one and B = two\n"
     ]
    }
   ],
   "source": [
    "a = 'one'\n",
    "b = 'two'\n",
    "\n",
    "print('A = {} and B = {}'.format(a, b))"
   ]
  },
  {
   "cell_type": "markdown",
   "metadata": {},
   "source": [
    "Importantly this format is flexible enough to handle most other objects:"
   ]
  },
  {
   "cell_type": "code",
   "execution_count": 7,
   "metadata": {},
   "outputs": [
    {
     "name": "stdout",
     "output_type": "stream",
     "text": [
      "A = 33 and B = ['a', 'b', 'c']\n"
     ]
    }
   ],
   "source": [
    "a = 33\n",
    "b = ['a', 'b', 'c']\n",
    "\n",
    "print('A = {} and B = {}'.format(a, b))"
   ]
  },
  {
   "cell_type": "markdown",
   "metadata": {},
   "source": [
    "## Arithmetic\n",
    "\n",
    "Python's syntax for basic arithmetic should be very straightforward to read. For example, the following should give relatively unsurprising results:"
   ]
  },
  {
   "cell_type": "code",
   "execution_count": 20,
   "metadata": {},
   "outputs": [
    {
     "name": "stdout",
     "output_type": "stream",
     "text": [
      "4\n",
      "a of type <class 'int'>\n",
      "16\n",
      "b is of type <class 'int'>\n"
     ]
    }
   ],
   "source": [
    "a = 2 + 2\n",
    "print(a)\n",
    "\n",
    "type_of_a = type(a)\n",
    "print('a of type {}'.format(type_of_a))\n",
    "\n",
    "b = a * 4\n",
    "print(b)\n",
    "\n",
    "type_of_b = type(b)\n",
    "print('b is of type {}'.format(type_of_b))"
   ]
  },
  {
   "cell_type": "markdown",
   "metadata": {},
   "source": [
    "## Lists\n",
    "\n",
    "Lists (known as arrays in some other languages) have some simple properties. The first is indexing directly:"
   ]
  },
  {
   "cell_type": "code",
   "execution_count": 6,
   "metadata": {},
   "outputs": [
    {
     "name": "stdout",
     "output_type": "stream",
     "text": [
      "alpha\n",
      "beta\n",
      "['beta', 'gamma', 'delta']\n",
      "epsilon\n",
      "delta\n",
      "['delta', 'epsilon']\n",
      "['alpha', 'beta']\n"
     ]
    }
   ],
   "source": [
    "my_list = ['alpha', 'beta', 'gamma', 'delta', 'epsilon']\n",
    "\n",
    "# First element\n",
    "print(my_list[0])\n",
    "\n",
    "# Second element\n",
    "print(my_list[1])"
   ]
  },
  {
   "cell_type": "markdown",
   "metadata": {},
   "source": [
    "You can also index blocks of elements with a start/ finish index"
   ]
  },
  {
   "cell_type": "code",
   "execution_count": 8,
   "metadata": {},
   "outputs": [
    {
     "name": "stdout",
     "output_type": "stream",
     "text": [
      "['beta', 'gamma', 'delta']\n"
     ]
    }
   ],
   "source": [
    "# Second to fourth elements\n",
    "print(my_list[1:4])"
   ]
  },
  {
   "cell_type": "markdown",
   "metadata": {},
   "source": [
    "You can do relative indexing with negative numbers:"
   ]
  },
  {
   "cell_type": "code",
   "execution_count": 9,
   "metadata": {},
   "outputs": [
    {
     "name": "stdout",
     "output_type": "stream",
     "text": [
      "epsilon\n",
      "delta\n"
     ]
    }
   ],
   "source": [
    "# Last element\n",
    "print(my_list[-1])\n",
    "\n",
    "# Second last element\n",
    "print(my_list[-2])"
   ]
  },
  {
   "cell_type": "markdown",
   "metadata": {},
   "source": [
    "Finally, you can specify open-ended ranges"
   ]
  },
  {
   "cell_type": "code",
   "execution_count": 11,
   "metadata": {},
   "outputs": [
    {
     "name": "stdout",
     "output_type": "stream",
     "text": [
      "['beta', 'gamma', 'delta', 'epsilon']\n",
      "['alpha', 'beta', 'gamma']\n"
     ]
    }
   ],
   "source": [
    "# Everything from 2nd element onwards\n",
    "print(my_list[1:])\n",
    "\n",
    "# All but the last two elements\n",
    "print(my_list[:-2])"
   ]
  },
  {
   "cell_type": "markdown",
   "metadata": {},
   "source": [
    "You can add/ remove elements from lists using the `append` and `remove` functions:"
   ]
  },
  {
   "cell_type": "code",
   "execution_count": 27,
   "metadata": {},
   "outputs": [
    {
     "name": "stdout",
     "output_type": "stream",
     "text": [
      "['alpha', 'beta', 'gamma', 'delta', 'epsilon', 'zeta', 'zeta', 'zeta', 'zeta', 'zeta', 'zeta']\n",
      "['alpha', 'beta', 'gamma', 'delta', 'epsilon', 'zeta', 'zeta', 'zeta', 'zeta', 'zeta', 'zeta', 'zeta']\n",
      "['alpha', 'beta', 'gamma', 'delta', 'epsilon', 'zeta', 'zeta', 'zeta', 'zeta', 'zeta', 'zeta']\n"
     ]
    }
   ],
   "source": [
    "print(my_list)\n",
    "\n",
    "my_list.append('zeta')\n",
    "\n",
    "print(my_list)\n",
    "\n",
    "my_list.remove('zeta')\n",
    "\n",
    "print(my_list)"
   ]
  },
  {
   "cell_type": "markdown",
   "metadata": {},
   "source": [
    "## Dictionaries\n",
    "\n",
    "Dictionaries are another useful type in Python. These also have equivalents in many other languages:"
   ]
  },
  {
   "cell_type": "code",
   "execution_count": 12,
   "metadata": {},
   "outputs": [
    {
     "name": "stdout",
     "output_type": "stream",
     "text": [
      "1\n",
      "3\n",
      "3\n"
     ]
    }
   ],
   "source": [
    "my_dictionary = {\n",
    "    'one': 1,\n",
    "    'two': 2,\n",
    "    'three': 3\n",
    "}\n",
    "\n",
    "# Access elements directly\n",
    "print(my_dictionary['one'])\n",
    "print(my_dictionary['three'])\n",
    "\n",
    "# Perform actions on the elements of the dictionary\n",
    "print(my_dictionary['one'] + my_dictionary['two'])"
   ]
  },
  {
   "cell_type": "markdown",
   "metadata": {},
   "source": [
    "## Loops\n",
    "\n",
    "Loops come in a couple of flavours in Python. The most basic is looping through a list of elements one-by-one:"
   ]
  },
  {
   "cell_type": "code",
   "execution_count": 13,
   "metadata": {},
   "outputs": [
    {
     "name": "stdout",
     "output_type": "stream",
     "text": [
      "alpha\n",
      "beta\n",
      "gamma\n"
     ]
    }
   ],
   "source": [
    "list_a = ['alpha', 'beta', 'gamma']\n",
    "\n",
    "for a in list_a:\n",
    "    print(a)"
   ]
  },
  {
   "cell_type": "markdown",
   "metadata": {},
   "source": [
    "We can also define ranges on the fly to iterate through a given number of times:"
   ]
  },
  {
   "cell_type": "code",
   "execution_count": 14,
   "metadata": {},
   "outputs": [
    {
     "name": "stdout",
     "output_type": "stream",
     "text": [
      "0\n",
      "1\n",
      "2\n",
      "3\n",
      "4\n"
     ]
    }
   ],
   "source": [
    "for x in range(5):\n",
    "    print(x)"
   ]
  },
  {
   "cell_type": "markdown",
   "metadata": {},
   "source": [
    "If we have a list of lists, we can iterate through individual sub-elements like this:"
   ]
  },
  {
   "cell_type": "code",
   "execution_count": 19,
   "metadata": {},
   "outputs": [
    {
     "name": "stdout",
     "output_type": "stream",
     "text": [
      "john - cleese\n",
      "eric - idle\n",
      "michael - palin\n"
     ]
    }
   ],
   "source": [
    "list_of_lists = [\n",
    "    ['john', 'cleese'],\n",
    "    ['eric', 'idle'],\n",
    "    ['michael', 'palin'],\n",
    "]\n",
    "\n",
    "for first_name, last_name in list_of_lists:\n",
    "    print('{} - {}'.format(first_name, last_name))"
   ]
  },
  {
   "cell_type": "markdown",
   "metadata": {},
   "source": [
    "Additionally we can iterate through the elements in a dictionary as follows:"
   ]
  },
  {
   "cell_type": "code",
   "execution_count": 20,
   "metadata": {},
   "outputs": [
    {
     "name": "stdout",
     "output_type": "stream",
     "text": [
      "life of brian - 1979\n",
      "meaning of life - 1983\n",
      "holy grail - 1975\n"
     ]
    }
   ],
   "source": [
    "my_dict = {\n",
    "    'holy grail': 1975,\n",
    "    'life of brian': 1979,\n",
    "    'meaning of life': 1983\n",
    "}\n",
    "\n",
    "for name, year in my_dict.items():\n",
    "    print('{} - {}'.format(name, year))"
   ]
  },
  {
   "cell_type": "markdown",
   "metadata": {},
   "source": [
    "## Imports\n",
    "\n",
    "To use anything other than very basic functionality we normally need to import some other library.\n",
    "\n",
    "There are two types of import, one importing a whole package:"
   ]
  },
  {
   "cell_type": "code",
   "execution_count": 26,
   "metadata": {},
   "outputs": [
    {
     "name": "stdout",
     "output_type": "stream",
     "text": [
      "4.0\n"
     ]
    }
   ],
   "source": [
    "import math\n",
    "\n",
    "a = math.sqrt(16)\n",
    "print(a)"
   ]
  },
  {
   "cell_type": "markdown",
   "metadata": {},
   "source": [
    "The other is to import a specific function from that package:"
   ]
  },
  {
   "cell_type": "code",
   "execution_count": 27,
   "metadata": {},
   "outputs": [
    {
     "name": "stdout",
     "output_type": "stream",
     "text": [
      "4.0\n"
     ]
    }
   ],
   "source": [
    "from math import sqrt\n",
    "\n",
    "a = sqrt(16)\n",
    "print(a)"
   ]
  },
  {
   "cell_type": "markdown",
   "metadata": {},
   "source": [
    "## Objects\n",
    "\n",
    "Objects and classes are the key entities in object-oriented programming. Python uses classes and objects heavily. A class is like a blueprint and an object is built from that blueprint. \n",
    "\n",
    "For example, we have a `Decimal` class which specifies a number of methods that make sense to act on a single decimal number (`log10`, `ln`, `sqrt` etc.). If we have a `Decimal` object, we can call those methods. For example, calling the `log10` and `sqrt` methods:"
   ]
  },
  {
   "cell_type": "code",
   "execution_count": 31,
   "metadata": {},
   "outputs": [
    {
     "name": "stdout",
     "output_type": "stream",
     "text": [
      "2\n",
      "10\n"
     ]
    }
   ],
   "source": [
    "from decimal import Decimal\n",
    "\n",
    "d = Decimal('100')\n",
    "print(d.log10())\n",
    "print(d.sqrt())"
   ]
  },
  {
   "cell_type": "markdown",
   "metadata": {},
   "source": [
    "## Functions\n",
    "\n",
    "To write anything other than a basic script you will want to create functions. Functions are blocks of code that can be reused over and over again. For example:"
   ]
  },
  {
   "cell_type": "code",
   "execution_count": 3,
   "metadata": {},
   "outputs": [
    {
     "name": "stdout",
     "output_type": "stream",
     "text": [
      "2 to the power 2\n",
      "2 to the power 3\n",
      "2 to the power 5\n",
      "------\n",
      "5 to the power 2\n",
      "5 to the power 3\n",
      "5 to the power 5\n"
     ]
    }
   ],
   "source": [
    "def print_power(x, p):\n",
    "    \"\"\"\n",
    "    Prints out the result of the number x raised to the given power p\n",
    "    \"\"\"\n",
    "    answer = pow(x, p)\n",
    "    print('{} to the power {}'.format(x, p))\n",
    "\n",
    "def print_powers(x):\n",
    "    \"\"\"\n",
    "    Prints out the given number raised to different powers\n",
    "    \"\"\"\n",
    "    print_power(x, 2)\n",
    "    print_power(x, 3)\n",
    "    print_power(x, 5)\n",
    "\n",
    "# Print powers of 2\n",
    "print_powers(2)\n",
    "\n",
    "print('------')\n",
    "\n",
    "# Print powers of 5\n",
    "print_powers(5)\n"
   ]
  },
  {
   "cell_type": "markdown",
   "metadata": {},
   "source": [
    "## Splitting Up and Importing Your Code\n",
    "\n",
    "Once your code gets larger you will want to split it into different files that can be reused. If you have a function in another file, you can import it and use it in other files in your codebase.\n",
    "\n",
    "For example, I've written a bad Fibonacci calculation in the file `utils/fib.py` and we can import it and call the function from this notebook as follows:"
   ]
  },
  {
   "cell_type": "code",
   "execution_count": 1,
   "metadata": {},
   "outputs": [
    {
     "name": "stdout",
     "output_type": "stream",
     "text": [
      "5\n",
      "21\n"
     ]
    }
   ],
   "source": [
    "from util.fibonacci import print_fib\n",
    "\n",
    "# Print the 5th Fibonacci number\n",
    "print_fib(5)\n",
    "\n",
    "# Print the 8th Fibonacci number\n",
    "print_fib(8)\n"
   ]
  }
 ],
 "metadata": {
  "kernelspec": {
   "display_name": "Python 3",
   "language": "python",
   "name": "python3"
  },
  "language_info": {
   "codemirror_mode": {
    "name": "ipython",
    "version": 3
   },
   "file_extension": ".py",
   "mimetype": "text/x-python",
   "name": "python",
   "nbconvert_exporter": "python",
   "pygments_lexer": "ipython3",
   "version": "3.5.2"
  }
 },
 "nbformat": 4,
 "nbformat_minor": 2
}
